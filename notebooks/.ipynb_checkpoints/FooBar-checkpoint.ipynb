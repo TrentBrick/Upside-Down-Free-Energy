{
 "cells": [
  {
   "cell_type": "code",
   "execution_count": null,
   "metadata": {},
   "outputs": [],
   "source": []
  },
  {
   "cell_type": "code",
   "execution_count": 38,
   "metadata": {},
   "outputs": [
    {
     "data": {
      "text/plain": [
       "[5]"
      ]
     },
     "execution_count": 38,
     "metadata": {},
     "output_type": "execute_result"
    }
   ],
   "source": [
    "lol = list(set([1,2,3]).difference(set([1,2,3]))) + list(set([1,2,3,5]).difference(set([1,2,3])))\n",
    "\n",
    "lol\n"
   ]
  },
  {
   "cell_type": "code",
   "execution_count": null,
   "metadata": {},
   "outputs": [],
   "source": [
    "def solution(x, y):\n",
    "    x_diff = list(set(x).difference(set(y)))\n",
    "    y_diff = list(set(y).difference(set(x)))\n",
    "    combo = x_diff+y_diff\n",
    "    return int(combo[0])"
   ]
  },
  {
   "cell_type": "code",
   "execution_count": 336,
   "metadata": {},
   "outputs": [],
   "source": [
    "def min_emp(total_lambs):\n",
    "    payouts = [0]\n",
    "    i=0\n",
    "    while sum(payouts)<= total_lambs:\n",
    "        max_lambs = 2**i\n",
    "        payouts.append(max_lambs)\n",
    "        i+=1\n",
    "        \n",
    "    #payouts.pop(0)\n",
    "    payouts[-1] = total_lambs - sum(payouts[:-1])\n",
    "    print('min emp', payouts)\n",
    "    \n",
    "    if payouts[-1]>=(payouts[-3]+payouts[-2]):\n",
    "        return len(payouts)-1\n",
    "    else: \n",
    "        return len(payouts)-2"
   ]
  },
  {
   "cell_type": "code",
   "execution_count": 337,
   "metadata": {},
   "outputs": [
    {
     "name": "stdout",
     "output_type": "stream",
     "text": [
      "min emp [0, 1, 2, 4, 6]\n"
     ]
    },
    {
     "data": {
      "text/plain": [
       "4"
      ]
     },
     "execution_count": 337,
     "metadata": {},
     "output_type": "execute_result"
    }
   ],
   "source": [
    "min_emp(13)"
   ]
  },
  {
   "cell_type": "code",
   "execution_count": 338,
   "metadata": {},
   "outputs": [],
   "source": [
    "def max_emp(total_lambs):\n",
    "    i=1\n",
    "    payouts = [0,1]\n",
    "    while sum(payouts)<= total_lambs:\n",
    "        min_lambs = payouts[-2]+payouts[-1]\n",
    "        payouts.append(min_lambs)\n",
    "\n",
    "    #payouts.pop(0)\n",
    "    payouts[-1] = total_lambs - sum(payouts[:-1])\n",
    "    \n",
    "    print('max emp', payouts)\n",
    "    if payouts[-1]>=(payouts[-3]+payouts[-2]):\n",
    "        return len(payouts)-1\n",
    "    else: \n",
    "        return len(payouts)-2"
   ]
  },
  {
   "cell_type": "code",
   "execution_count": 339,
   "metadata": {},
   "outputs": [
    {
     "name": "stdout",
     "output_type": "stream",
     "text": [
      "max emp [0, 1, 1, 2, 3, 5, 8, 0]\n"
     ]
    },
    {
     "data": {
      "text/plain": [
       "6"
      ]
     },
     "execution_count": 339,
     "metadata": {},
     "output_type": "execute_result"
    }
   ],
   "source": [
    "max_emp(20)"
   ]
  },
  {
   "cell_type": "code",
   "execution_count": 340,
   "metadata": {},
   "outputs": [],
   "source": [
    "def solution_lambs(total_lambs):\n",
    "    maxx = max_emp(total_lambs)\n",
    "    minn = min_emp(total_lambs)\n",
    "    print('max and min', maxx, minn)\n",
    "    return maxx - minn"
   ]
  },
  {
   "cell_type": "code",
   "execution_count": 341,
   "metadata": {},
   "outputs": [
    {
     "name": "stdout",
     "output_type": "stream",
     "text": [
      "max emp [0, 1, 1, 2, 3, 5, 0]\n",
      "min emp [0, 1, 2, 4, 5]\n",
      "max and min 5 3\n"
     ]
    },
    {
     "data": {
      "text/plain": [
       "2"
      ]
     },
     "execution_count": 341,
     "metadata": {},
     "output_type": "execute_result"
    }
   ],
   "source": [
    "solution_lambs(12)"
   ]
  },
  {
   "cell_type": "code",
   "execution_count": 335,
   "metadata": {},
   "outputs": [
    {
     "name": "stdout",
     "output_type": "stream",
     "text": [
      "max emp [0, 1, 1, 2, 3, 5, 0]\n",
      "min emp [0, 1, 2, 4, 5]\n",
      "max and min 5 3\n"
     ]
    },
    {
     "data": {
      "text/plain": [
       "2"
      ]
     },
     "execution_count": 335,
     "metadata": {},
     "output_type": "execute_result"
    }
   ],
   "source": [
    "solution_lambs(12)"
   ]
  },
  {
   "cell_type": "code",
   "execution_count": null,
   "metadata": {},
   "outputs": [],
   "source": []
  },
  {
   "cell_type": "code",
   "execution_count": 30,
   "metadata": {},
   "outputs": [
    {
     "data": {
      "text/plain": [
       "200000000000000000000000000000000000000000000000500"
      ]
     },
     "execution_count": 30,
     "metadata": {},
     "output_type": "execute_result"
    }
   ],
   "source": [
    "l = '1'\n",
    "for i in range(50):\n",
    "    l += '0'\n",
    "int(l)+500+int(l)"
   ]
  },
  {
   "cell_type": "code",
   "execution_count": 2,
   "metadata": {},
   "outputs": [],
   "source": [
    "import itertools\n",
    "import numpy as np\n",
    "def solver(li):\n",
    "    new = []\n",
    "    for l in list(li): \n",
    "        new.append(str(l))\n",
    "    li=new\n",
    "    \n",
    "    n = len(li)\n",
    "    largest = 0\n",
    "    \n",
    "    for i in reversed(range(1,n+1)):\n",
    "        \n",
    "        # get all combinations of this size. Then get all permutations of each \n",
    "        combos = np.asarray(list(itertools.combinations(li, i))) \n",
    "        #print(combos)\n",
    "        for c in combos: \n",
    "            \n",
    "            perms = list(itertools.permutations(c))\n",
    "            for p in perms:\n",
    "                num = int(''.join(p))\n",
    "                if num%3==0 and num>=largest:\n",
    "                    largest =num\n",
    "            \n",
    "        if largest>0:\n",
    "            break \n",
    "            \n",
    "    return largest\n",
    "    "
   ]
  },
  {
   "cell_type": "code",
   "execution_count": null,
   "metadata": {},
   "outputs": [],
   "source": []
  },
  {
   "cell_type": "code",
   "execution_count": null,
   "metadata": {},
   "outputs": [],
   "source": []
  },
  {
   "cell_type": "code",
   "execution_count": 6,
   "metadata": {},
   "outputs": [],
   "source": [
    "class Node: \n",
    "    def __init__(self,vals, parent, depth):\n",
    "        self.values = vals\n",
    "        self.parent = parent\n",
    "        self.depth = depth\n",
    "        self.left = None\n",
    "        self.right = None\n",
    "        \n",
    "    def is_terminal(self, targets):\n",
    "        #print('terminal value check', self.values, targets)\n",
    "        if max(self.values)> max(targets):\n",
    "            return True\n",
    "        else: \n",
    "            return False\n",
    "        \n",
    "    def add_left(self):\n",
    "        return [self.values[0]+self.values[1], self.values[1]]\n",
    "        \n",
    "    def add_right(self):\n",
    "        return [self.values[0],self.values[0]+self.values[1]]"
   ]
  },
  {
   "cell_type": "code",
   "execution_count": 7,
   "metadata": {},
   "outputs": [],
   "source": [
    "def solv(d1, d2):\n",
    "    fastest = 10000000\n",
    "    targets = [int(d1), int(d2)] \n",
    "    root = Node([2,1], 'Root', 1) # starting from one down. \n",
    "    pos = root\n",
    "    while True: \n",
    "        \n",
    "        #print(\"pos depth\", pos.depth)\n",
    "        #print('checking for match', pos.values, targets)\n",
    "        if pos.values[0] == targets[0] and pos.values[1] == targets[1]:\n",
    "            if pos.depth < fastest:\n",
    "                fastest=pos.depth\n",
    "            \n",
    "        elif pos.values[0] == targets[1] and pos.values[1] == targets[0]:\n",
    "            if pos.depth < fastest:\n",
    "                fastest=pos.depth\n",
    "            \n",
    "        if pos.left is None: \n",
    "            #print('trying left')\n",
    "            pos.left = Node(pos.add_left(), pos, pos.depth+1)\n",
    "            if not pos.left.is_terminal(targets):\n",
    "                pos = pos.left\n",
    "                continue\n",
    "            \n",
    "        if pos.right is None: \n",
    "            #print('trying right')\n",
    "            pos.right = Node(pos.add_right(), pos, pos.depth+1)\n",
    "            if not pos.right.is_terminal(targets):\n",
    "                pos = pos.right\n",
    "                continue\n",
    "                \n",
    "        pos = pos.parent\n",
    "        \n",
    "        if pos is 'Root' and fastest==10000000:\n",
    "            return \"impossible\"\n",
    "        elif pos is 'Root': \n",
    "            return str(fastest)\n",
    "    "
   ]
  },
  {
   "cell_type": "code",
   "execution_count": 5,
   "metadata": {},
   "outputs": [
    {
     "name": "stdout",
     "output_type": "stream",
     "text": [
      "pos depth 1\n",
      "checking for match [2, 1] [10, 3]\n",
      "pos depth 2\n",
      "checking for match [3, 1] [10, 3]\n",
      "pos depth 3\n",
      "checking for match [4, 1] [10, 3]\n",
      "pos depth 4\n",
      "checking for match [5, 1] [10, 3]\n",
      "pos depth 5\n",
      "checking for match [6, 1] [10, 3]\n",
      "pos depth 6\n",
      "checking for match [7, 1] [10, 3]\n",
      "pos depth 7\n",
      "checking for match [8, 1] [10, 3]\n",
      "pos depth 8\n",
      "checking for match [9, 1] [10, 3]\n",
      "pos depth 9\n",
      "checking for match [10, 1] [10, 3]\n",
      "pos depth 8\n",
      "checking for match [9, 1] [10, 3]\n",
      "pos depth 9\n",
      "checking for match [9, 10] [10, 3]\n",
      "pos depth 8\n",
      "checking for match [9, 1] [10, 3]\n",
      "pos depth 7\n",
      "checking for match [8, 1] [10, 3]\n",
      "pos depth 8\n",
      "checking for match [8, 9] [10, 3]\n",
      "pos depth 7\n",
      "checking for match [8, 1] [10, 3]\n",
      "pos depth 6\n",
      "checking for match [7, 1] [10, 3]\n",
      "pos depth 7\n",
      "checking for match [7, 8] [10, 3]\n",
      "pos depth 6\n",
      "checking for match [7, 1] [10, 3]\n",
      "pos depth 5\n",
      "checking for match [6, 1] [10, 3]\n",
      "pos depth 6\n",
      "checking for match [6, 7] [10, 3]\n",
      "pos depth 5\n",
      "checking for match [6, 1] [10, 3]\n",
      "pos depth 4\n",
      "checking for match [5, 1] [10, 3]\n",
      "pos depth 5\n",
      "checking for match [5, 6] [10, 3]\n",
      "pos depth 4\n",
      "checking for match [5, 1] [10, 3]\n",
      "pos depth 3\n",
      "checking for match [4, 1] [10, 3]\n",
      "pos depth 4\n",
      "checking for match [4, 5] [10, 3]\n",
      "pos depth 5\n",
      "checking for match [9, 5] [10, 3]\n",
      "pos depth 4\n",
      "checking for match [4, 5] [10, 3]\n",
      "pos depth 5\n",
      "checking for match [4, 9] [10, 3]\n",
      "pos depth 4\n",
      "checking for match [4, 5] [10, 3]\n",
      "pos depth 3\n",
      "checking for match [4, 1] [10, 3]\n",
      "pos depth 2\n",
      "checking for match [3, 1] [10, 3]\n",
      "pos depth 3\n",
      "checking for match [3, 4] [10, 3]\n",
      "pos depth 4\n",
      "checking for match [7, 4] [10, 3]\n",
      "pos depth 3\n",
      "checking for match [3, 4] [10, 3]\n",
      "pos depth 4\n",
      "checking for match [3, 7] [10, 3]\n",
      "pos depth 5\n",
      "checking for match [10, 7] [10, 3]\n",
      "pos depth 4\n",
      "checking for match [3, 7] [10, 3]\n",
      "pos depth 5\n",
      "checking for match [3, 10] [10, 3]\n",
      "pos depth 4\n",
      "checking for match [3, 7] [10, 3]\n",
      "pos depth 3\n",
      "checking for match [3, 4] [10, 3]\n",
      "pos depth 2\n",
      "checking for match [3, 1] [10, 3]\n",
      "pos depth 1\n",
      "checking for match [2, 1] [10, 3]\n",
      "pos depth 2\n",
      "checking for match [2, 3] [10, 3]\n",
      "pos depth 3\n",
      "checking for match [5, 3] [10, 3]\n",
      "pos depth 4\n",
      "checking for match [8, 3] [10, 3]\n",
      "pos depth 3\n",
      "checking for match [5, 3] [10, 3]\n",
      "pos depth 4\n",
      "checking for match [5, 8] [10, 3]\n",
      "pos depth 3\n",
      "checking for match [5, 3] [10, 3]\n",
      "pos depth 2\n",
      "checking for match [2, 3] [10, 3]\n",
      "pos depth 3\n",
      "checking for match [2, 5] [10, 3]\n",
      "pos depth 4\n",
      "checking for match [7, 5] [10, 3]\n",
      "pos depth 3\n",
      "checking for match [2, 5] [10, 3]\n",
      "pos depth 4\n",
      "checking for match [2, 7] [10, 3]\n",
      "pos depth 5\n",
      "checking for match [9, 7] [10, 3]\n",
      "pos depth 4\n",
      "checking for match [2, 7] [10, 3]\n",
      "pos depth 5\n",
      "checking for match [2, 9] [10, 3]\n",
      "pos depth 4\n",
      "checking for match [2, 7] [10, 3]\n",
      "pos depth 3\n",
      "checking for match [2, 5] [10, 3]\n",
      "pos depth 2\n",
      "checking for match [2, 3] [10, 3]\n",
      "pos depth 1\n",
      "checking for match [2, 1] [10, 3]\n"
     ]
    },
    {
     "data": {
      "text/plain": [
       "'5'"
      ]
     },
     "execution_count": 5,
     "metadata": {},
     "output_type": "execute_result"
    }
   ],
   "source": [
    "solv(\"10\", \"3\")"
   ]
  },
  {
   "cell_type": "code",
   "execution_count": 166,
   "metadata": {},
   "outputs": [],
   "source": [
    "def old_solv(d1, d2):\n",
    "    d1, d2 = int(d1), int(d2)\n",
    "    steps = 0\n",
    "    while True:\n",
    "        \n",
    "        if int(str(d1)[-1])%2==0 and int(str(d2)[-1])%2==0:\n",
    "            return \"impossible\"\n",
    "        \n",
    "        if d1==1 and d2==1:\n",
    "            return str(steps)\n",
    "        elif d1<1 or d2<1:\n",
    "            return \"impossible\"\n",
    "        \n",
    "        if d1>=d2:\n",
    "            d1 = d1-d2\n",
    "            \n",
    "        elif d2>=d1:\n",
    "            d2 = d2-d1\n",
    "            \n",
    "        steps+=1\n",
    "            \n",
    "        print(d1,d2)"
   ]
  },
  {
   "cell_type": "code",
   "execution_count": 169,
   "metadata": {},
   "outputs": [
    {
     "name": "stdout",
     "output_type": "stream",
     "text": [
      "198185 5763\n",
      "192422 5763\n",
      "186659 5763\n",
      "180896 5763\n",
      "175133 5763\n",
      "169370 5763\n",
      "163607 5763\n",
      "157844 5763\n",
      "152081 5763\n",
      "146318 5763\n",
      "140555 5763\n",
      "134792 5763\n",
      "129029 5763\n",
      "123266 5763\n",
      "117503 5763\n",
      "111740 5763\n",
      "105977 5763\n",
      "100214 5763\n",
      "94451 5763\n",
      "88688 5763\n",
      "82925 5763\n",
      "77162 5763\n",
      "71399 5763\n",
      "65636 5763\n",
      "59873 5763\n",
      "54110 5763\n",
      "48347 5763\n",
      "42584 5763\n",
      "36821 5763\n",
      "31058 5763\n",
      "25295 5763\n",
      "19532 5763\n",
      "13769 5763\n",
      "8006 5763\n",
      "2243 5763\n",
      "2243 3520\n",
      "2243 1277\n",
      "966 1277\n",
      "966 311\n",
      "655 311\n",
      "344 311\n",
      "33 311\n",
      "33 278\n",
      "33 245\n",
      "33 212\n",
      "33 179\n",
      "33 146\n",
      "33 113\n",
      "33 80\n",
      "33 47\n",
      "33 14\n",
      "19 14\n",
      "5 14\n",
      "5 9\n",
      "5 4\n",
      "1 4\n",
      "1 3\n",
      "1 2\n",
      "1 1\n"
     ]
    },
    {
     "data": {
      "text/plain": [
       "'59'"
      ]
     },
     "execution_count": 169,
     "metadata": {},
     "output_type": "execute_result"
    }
   ],
   "source": [
    "old_solv('203948','5763')"
   ]
  },
  {
   "cell_type": "code",
   "execution_count": 163,
   "metadata": {},
   "outputs": [],
   "source": [
    "def solv(d1, d2):\n",
    "    d1, d2 = int(d1), int(d2)\n",
    "    steps = 0\n",
    "    while True:\n",
    "        \n",
    "        if int(str(d1)[-1])%2==0 and int(str(d2)[-1])%2==0:\n",
    "            return \"impossible\"\n",
    "        \n",
    "        if d1==1 and d2==1:\n",
    "            return str(steps)\n",
    "        elif d1<1 or d2<1:\n",
    "            return \"impossible\"\n",
    "        \n",
    "        if d1==1:\n",
    "            return str(d2-1+steps)\n",
    "        elif d2==1: \n",
    "            return str(d1-1+steps)\n",
    "        \n",
    "        if d1>=d2:\n",
    "            steps+= int(d1/d2)\n",
    "            d1 = d1%d2 #d1-d2\n",
    "            \n",
    "        elif d2>=d1:\n",
    "            steps+= int(d2/d1)\n",
    "            d2 = d2%d1 #d2-d1\n",
    "            \n",
    "        print(d1,d2)\n",
    "        \n",
    "        \n",
    "            "
   ]
  },
  {
   "cell_type": "code",
   "execution_count": 170,
   "metadata": {},
   "outputs": [
    {
     "name": "stdout",
     "output_type": "stream",
     "text": [
      "2243 5763\n",
      "2243 1277\n",
      "966 1277\n",
      "966 311\n",
      "33 311\n",
      "33 14\n",
      "5 14\n",
      "5 4\n",
      "1 4\n"
     ]
    },
    {
     "data": {
      "text/plain": [
       "'59'"
      ]
     },
     "execution_count": 170,
     "metadata": {},
     "output_type": "execute_result"
    }
   ],
   "source": [
    "solv('203948','5763') #3"
   ]
  },
  {
   "cell_type": "code",
   "execution_count": 107,
   "metadata": {},
   "outputs": [
    {
     "ename": "TypeError",
     "evalue": "'int' object is not subscriptable",
     "output_type": "error",
     "traceback": [
      "\u001b[0;31m---------------------------------------------------------------------------\u001b[0m",
      "\u001b[0;31mTypeError\u001b[0m                                 Traceback (most recent call last)",
      "\u001b[0;32m<ipython-input-107-55e0ad220791>\u001b[0m in \u001b[0;36m<module>\u001b[0;34m\u001b[0m\n\u001b[0;32m----> 1\u001b[0;31m \u001b[0;36m1000\u001b[0m\u001b[0;34m[\u001b[0m\u001b[0;34m-\u001b[0m\u001b[0;36m1\u001b[0m\u001b[0;34m]\u001b[0m\u001b[0;34m\u001b[0m\u001b[0;34m\u001b[0m\u001b[0m\n\u001b[0m",
      "\u001b[0;31mTypeError\u001b[0m: 'int' object is not subscriptable"
     ]
    }
   ],
   "source": [
    "1000[-1]"
   ]
  },
  {
   "cell_type": "code",
   "execution_count": null,
   "metadata": {},
   "outputs": [],
   "source": []
  },
  {
   "cell_type": "code",
   "execution_count": 218,
   "metadata": {},
   "outputs": [
    {
     "data": {
      "text/plain": [
       "66"
      ]
     },
     "execution_count": 218,
     "metadata": {},
     "output_type": "execute_result"
    }
   ],
   "source": [
    "sum(list(range(12)))"
   ]
  },
  {
   "cell_type": "code",
   "execution_count": 318,
   "metadata": {},
   "outputs": [
    {
     "data": {
      "text/plain": [
       "{'hey': 5}"
      ]
     },
     "execution_count": 318,
     "metadata": {},
     "output_type": "execute_result"
    }
   ],
   "source": [
    "dict(hey=5)"
   ]
  },
  {
   "cell_type": "code",
   "execution_count": 65,
   "metadata": {},
   "outputs": [],
   "source": [
    "import math\n",
    "\n",
    "\n",
    "cacher = {1:1, 2:1, 3:2, 4:2, 5:2, 6:3} #7:4, 8:5, 9:7}\n",
    "\n",
    "# do I need to cache the previous computations? \n",
    "\n",
    "def recurse(n,previous):\n",
    "    \n",
    "    #print(previous, n)\n",
    "    options=0\n",
    "    \n",
    "    if n in cacher.keys() and n<previous:\n",
    "        #print('cache of', cacher[n])\n",
    "        return cacher[n]\n",
    "    elif n>=previous and n<3: \n",
    "        #print('too large')\n",
    "        return 0\n",
    "    \n",
    "    for keep in reversed(range(1, n)):\n",
    "        remainder = n-keep\n",
    "        # i is the number being kept in this position. \n",
    "        #print('keeping here', keep, 'previous is', previous, 'remainder', remainder)\n",
    "        if keep>=previous:\n",
    "            #print(\"too large\")\n",
    "            continue\n",
    "        options+=recurse(remainder,keep)\n",
    "    return options"
   ]
  },
  {
   "cell_type": "code",
   "execution_count": 66,
   "metadata": {},
   "outputs": [
    {
     "data": {
      "text/plain": [
       "7"
      ]
     },
     "execution_count": 66,
     "metadata": {},
     "output_type": "execute_result"
    }
   ],
   "source": [
    "recurse(9,100000)"
   ]
  },
  {
   "cell_type": "code",
   "execution_count": 67,
   "metadata": {},
   "outputs": [
    {
     "ename": "KeyboardInterrupt",
     "evalue": "",
     "output_type": "error",
     "traceback": [
      "\u001b[0;31m---------------------------------------------------------------------------\u001b[0m",
      "\u001b[0;31mKeyboardInterrupt\u001b[0m                         Traceback (most recent call last)",
      "\u001b[0;32m<ipython-input-67-808771dd90e4>\u001b[0m in \u001b[0;36m<module>\u001b[0;34m\u001b[0m\n\u001b[1;32m      1\u001b[0m \u001b[0;32mfor\u001b[0m \u001b[0mi\u001b[0m \u001b[0;32min\u001b[0m \u001b[0mrange\u001b[0m\u001b[0;34m(\u001b[0m\u001b[0;36m1\u001b[0m\u001b[0;34m,\u001b[0m\u001b[0;36m201\u001b[0m\u001b[0;34m)\u001b[0m\u001b[0;34m:\u001b[0m\u001b[0;34m\u001b[0m\u001b[0;34m\u001b[0m\u001b[0m\n\u001b[0;32m----> 2\u001b[0;31m     \u001b[0mcacher\u001b[0m\u001b[0;34m[\u001b[0m\u001b[0mi\u001b[0m\u001b[0;34m]\u001b[0m \u001b[0;34m=\u001b[0m \u001b[0mrecurse\u001b[0m\u001b[0;34m(\u001b[0m\u001b[0mi\u001b[0m\u001b[0;34m,\u001b[0m\u001b[0;36m100000\u001b[0m\u001b[0;34m)\u001b[0m\u001b[0;34m\u001b[0m\u001b[0;34m\u001b[0m\u001b[0m\n\u001b[0m",
      "\u001b[0;32m<ipython-input-65-03125ad110a8>\u001b[0m in \u001b[0;36mrecurse\u001b[0;34m(n, previous)\u001b[0m\n\u001b[1;32m     25\u001b[0m             \u001b[0;31m#print(\"too large\")\u001b[0m\u001b[0;34m\u001b[0m\u001b[0;34m\u001b[0m\u001b[0;34m\u001b[0m\u001b[0m\n\u001b[1;32m     26\u001b[0m             \u001b[0;32mcontinue\u001b[0m\u001b[0;34m\u001b[0m\u001b[0;34m\u001b[0m\u001b[0m\n\u001b[0;32m---> 27\u001b[0;31m         \u001b[0moptions\u001b[0m\u001b[0;34m+=\u001b[0m\u001b[0mrecurse\u001b[0m\u001b[0;34m(\u001b[0m\u001b[0mremainder\u001b[0m\u001b[0;34m,\u001b[0m\u001b[0mkeep\u001b[0m\u001b[0;34m)\u001b[0m\u001b[0;34m\u001b[0m\u001b[0;34m\u001b[0m\u001b[0m\n\u001b[0m\u001b[1;32m     28\u001b[0m     \u001b[0;32mreturn\u001b[0m \u001b[0moptions\u001b[0m\u001b[0;34m\u001b[0m\u001b[0;34m\u001b[0m\u001b[0m\n",
      "\u001b[0;32m<ipython-input-65-03125ad110a8>\u001b[0m in \u001b[0;36mrecurse\u001b[0;34m(n, previous)\u001b[0m\n\u001b[1;32m     25\u001b[0m             \u001b[0;31m#print(\"too large\")\u001b[0m\u001b[0;34m\u001b[0m\u001b[0;34m\u001b[0m\u001b[0;34m\u001b[0m\u001b[0m\n\u001b[1;32m     26\u001b[0m             \u001b[0;32mcontinue\u001b[0m\u001b[0;34m\u001b[0m\u001b[0;34m\u001b[0m\u001b[0m\n\u001b[0;32m---> 27\u001b[0;31m         \u001b[0moptions\u001b[0m\u001b[0;34m+=\u001b[0m\u001b[0mrecurse\u001b[0m\u001b[0;34m(\u001b[0m\u001b[0mremainder\u001b[0m\u001b[0;34m,\u001b[0m\u001b[0mkeep\u001b[0m\u001b[0;34m)\u001b[0m\u001b[0;34m\u001b[0m\u001b[0;34m\u001b[0m\u001b[0m\n\u001b[0m\u001b[1;32m     28\u001b[0m     \u001b[0;32mreturn\u001b[0m \u001b[0moptions\u001b[0m\u001b[0;34m\u001b[0m\u001b[0;34m\u001b[0m\u001b[0m\n",
      "\u001b[0;32m<ipython-input-65-03125ad110a8>\u001b[0m in \u001b[0;36mrecurse\u001b[0;34m(n, previous)\u001b[0m\n\u001b[1;32m     25\u001b[0m             \u001b[0;31m#print(\"too large\")\u001b[0m\u001b[0;34m\u001b[0m\u001b[0;34m\u001b[0m\u001b[0;34m\u001b[0m\u001b[0m\n\u001b[1;32m     26\u001b[0m             \u001b[0;32mcontinue\u001b[0m\u001b[0;34m\u001b[0m\u001b[0;34m\u001b[0m\u001b[0m\n\u001b[0;32m---> 27\u001b[0;31m         \u001b[0moptions\u001b[0m\u001b[0;34m+=\u001b[0m\u001b[0mrecurse\u001b[0m\u001b[0;34m(\u001b[0m\u001b[0mremainder\u001b[0m\u001b[0;34m,\u001b[0m\u001b[0mkeep\u001b[0m\u001b[0;34m)\u001b[0m\u001b[0;34m\u001b[0m\u001b[0;34m\u001b[0m\u001b[0m\n\u001b[0m\u001b[1;32m     28\u001b[0m     \u001b[0;32mreturn\u001b[0m \u001b[0moptions\u001b[0m\u001b[0;34m\u001b[0m\u001b[0;34m\u001b[0m\u001b[0m\n",
      "\u001b[0;32m<ipython-input-65-03125ad110a8>\u001b[0m in \u001b[0;36mrecurse\u001b[0;34m(n, previous)\u001b[0m\n\u001b[1;32m     25\u001b[0m             \u001b[0;31m#print(\"too large\")\u001b[0m\u001b[0;34m\u001b[0m\u001b[0;34m\u001b[0m\u001b[0;34m\u001b[0m\u001b[0m\n\u001b[1;32m     26\u001b[0m             \u001b[0;32mcontinue\u001b[0m\u001b[0;34m\u001b[0m\u001b[0;34m\u001b[0m\u001b[0m\n\u001b[0;32m---> 27\u001b[0;31m         \u001b[0moptions\u001b[0m\u001b[0;34m+=\u001b[0m\u001b[0mrecurse\u001b[0m\u001b[0;34m(\u001b[0m\u001b[0mremainder\u001b[0m\u001b[0;34m,\u001b[0m\u001b[0mkeep\u001b[0m\u001b[0;34m)\u001b[0m\u001b[0;34m\u001b[0m\u001b[0;34m\u001b[0m\u001b[0m\n\u001b[0m\u001b[1;32m     28\u001b[0m     \u001b[0;32mreturn\u001b[0m \u001b[0moptions\u001b[0m\u001b[0;34m\u001b[0m\u001b[0;34m\u001b[0m\u001b[0m\n",
      "\u001b[0;32m<ipython-input-65-03125ad110a8>\u001b[0m in \u001b[0;36mrecurse\u001b[0;34m(n, previous)\u001b[0m\n\u001b[1;32m     25\u001b[0m             \u001b[0;31m#print(\"too large\")\u001b[0m\u001b[0;34m\u001b[0m\u001b[0;34m\u001b[0m\u001b[0;34m\u001b[0m\u001b[0m\n\u001b[1;32m     26\u001b[0m             \u001b[0;32mcontinue\u001b[0m\u001b[0;34m\u001b[0m\u001b[0;34m\u001b[0m\u001b[0m\n\u001b[0;32m---> 27\u001b[0;31m         \u001b[0moptions\u001b[0m\u001b[0;34m+=\u001b[0m\u001b[0mrecurse\u001b[0m\u001b[0;34m(\u001b[0m\u001b[0mremainder\u001b[0m\u001b[0;34m,\u001b[0m\u001b[0mkeep\u001b[0m\u001b[0;34m)\u001b[0m\u001b[0;34m\u001b[0m\u001b[0;34m\u001b[0m\u001b[0m\n\u001b[0m\u001b[1;32m     28\u001b[0m     \u001b[0;32mreturn\u001b[0m \u001b[0moptions\u001b[0m\u001b[0;34m\u001b[0m\u001b[0;34m\u001b[0m\u001b[0m\n",
      "\u001b[0;32m<ipython-input-65-03125ad110a8>\u001b[0m in \u001b[0;36mrecurse\u001b[0;34m(n, previous)\u001b[0m\n\u001b[1;32m     25\u001b[0m             \u001b[0;31m#print(\"too large\")\u001b[0m\u001b[0;34m\u001b[0m\u001b[0;34m\u001b[0m\u001b[0;34m\u001b[0m\u001b[0m\n\u001b[1;32m     26\u001b[0m             \u001b[0;32mcontinue\u001b[0m\u001b[0;34m\u001b[0m\u001b[0;34m\u001b[0m\u001b[0m\n\u001b[0;32m---> 27\u001b[0;31m         \u001b[0moptions\u001b[0m\u001b[0;34m+=\u001b[0m\u001b[0mrecurse\u001b[0m\u001b[0;34m(\u001b[0m\u001b[0mremainder\u001b[0m\u001b[0;34m,\u001b[0m\u001b[0mkeep\u001b[0m\u001b[0;34m)\u001b[0m\u001b[0;34m\u001b[0m\u001b[0;34m\u001b[0m\u001b[0m\n\u001b[0m\u001b[1;32m     28\u001b[0m     \u001b[0;32mreturn\u001b[0m \u001b[0moptions\u001b[0m\u001b[0;34m\u001b[0m\u001b[0;34m\u001b[0m\u001b[0m\n",
      "\u001b[0;32m<ipython-input-65-03125ad110a8>\u001b[0m in \u001b[0;36mrecurse\u001b[0;34m(n, previous)\u001b[0m\n\u001b[1;32m     25\u001b[0m             \u001b[0;31m#print(\"too large\")\u001b[0m\u001b[0;34m\u001b[0m\u001b[0;34m\u001b[0m\u001b[0;34m\u001b[0m\u001b[0m\n\u001b[1;32m     26\u001b[0m             \u001b[0;32mcontinue\u001b[0m\u001b[0;34m\u001b[0m\u001b[0;34m\u001b[0m\u001b[0m\n\u001b[0;32m---> 27\u001b[0;31m         \u001b[0moptions\u001b[0m\u001b[0;34m+=\u001b[0m\u001b[0mrecurse\u001b[0m\u001b[0;34m(\u001b[0m\u001b[0mremainder\u001b[0m\u001b[0;34m,\u001b[0m\u001b[0mkeep\u001b[0m\u001b[0;34m)\u001b[0m\u001b[0;34m\u001b[0m\u001b[0;34m\u001b[0m\u001b[0m\n\u001b[0m\u001b[1;32m     28\u001b[0m     \u001b[0;32mreturn\u001b[0m \u001b[0moptions\u001b[0m\u001b[0;34m\u001b[0m\u001b[0;34m\u001b[0m\u001b[0m\n",
      "\u001b[0;32m<ipython-input-65-03125ad110a8>\u001b[0m in \u001b[0;36mrecurse\u001b[0;34m(n, previous)\u001b[0m\n\u001b[1;32m     25\u001b[0m             \u001b[0;31m#print(\"too large\")\u001b[0m\u001b[0;34m\u001b[0m\u001b[0;34m\u001b[0m\u001b[0;34m\u001b[0m\u001b[0m\n\u001b[1;32m     26\u001b[0m             \u001b[0;32mcontinue\u001b[0m\u001b[0;34m\u001b[0m\u001b[0;34m\u001b[0m\u001b[0m\n\u001b[0;32m---> 27\u001b[0;31m         \u001b[0moptions\u001b[0m\u001b[0;34m+=\u001b[0m\u001b[0mrecurse\u001b[0m\u001b[0;34m(\u001b[0m\u001b[0mremainder\u001b[0m\u001b[0;34m,\u001b[0m\u001b[0mkeep\u001b[0m\u001b[0;34m)\u001b[0m\u001b[0;34m\u001b[0m\u001b[0;34m\u001b[0m\u001b[0m\n\u001b[0m\u001b[1;32m     28\u001b[0m     \u001b[0;32mreturn\u001b[0m \u001b[0moptions\u001b[0m\u001b[0;34m\u001b[0m\u001b[0;34m\u001b[0m\u001b[0m\n",
      "\u001b[0;32m<ipython-input-65-03125ad110a8>\u001b[0m in \u001b[0;36mrecurse\u001b[0;34m(n, previous)\u001b[0m\n\u001b[1;32m     25\u001b[0m             \u001b[0;31m#print(\"too large\")\u001b[0m\u001b[0;34m\u001b[0m\u001b[0;34m\u001b[0m\u001b[0;34m\u001b[0m\u001b[0m\n\u001b[1;32m     26\u001b[0m             \u001b[0;32mcontinue\u001b[0m\u001b[0;34m\u001b[0m\u001b[0;34m\u001b[0m\u001b[0m\n\u001b[0;32m---> 27\u001b[0;31m         \u001b[0moptions\u001b[0m\u001b[0;34m+=\u001b[0m\u001b[0mrecurse\u001b[0m\u001b[0;34m(\u001b[0m\u001b[0mremainder\u001b[0m\u001b[0;34m,\u001b[0m\u001b[0mkeep\u001b[0m\u001b[0;34m)\u001b[0m\u001b[0;34m\u001b[0m\u001b[0;34m\u001b[0m\u001b[0m\n\u001b[0m\u001b[1;32m     28\u001b[0m     \u001b[0;32mreturn\u001b[0m \u001b[0moptions\u001b[0m\u001b[0;34m\u001b[0m\u001b[0;34m\u001b[0m\u001b[0m\n",
      "\u001b[0;32m<ipython-input-65-03125ad110a8>\u001b[0m in \u001b[0;36mrecurse\u001b[0;34m(n, previous)\u001b[0m\n\u001b[1;32m     22\u001b[0m         \u001b[0;31m# i is the number being kept in this position.\u001b[0m\u001b[0;34m\u001b[0m\u001b[0;34m\u001b[0m\u001b[0;34m\u001b[0m\u001b[0m\n\u001b[1;32m     23\u001b[0m         \u001b[0;31m#print('keeping here', keep, 'previous is', previous, 'remainder', remainder)\u001b[0m\u001b[0;34m\u001b[0m\u001b[0;34m\u001b[0m\u001b[0;34m\u001b[0m\u001b[0m\n\u001b[0;32m---> 24\u001b[0;31m         \u001b[0;32mif\u001b[0m \u001b[0mkeep\u001b[0m\u001b[0;34m>=\u001b[0m\u001b[0mprevious\u001b[0m\u001b[0;34m:\u001b[0m\u001b[0;34m\u001b[0m\u001b[0;34m\u001b[0m\u001b[0m\n\u001b[0m\u001b[1;32m     25\u001b[0m             \u001b[0;31m#print(\"too large\")\u001b[0m\u001b[0;34m\u001b[0m\u001b[0;34m\u001b[0m\u001b[0;34m\u001b[0m\u001b[0m\n\u001b[1;32m     26\u001b[0m             \u001b[0;32mcontinue\u001b[0m\u001b[0;34m\u001b[0m\u001b[0;34m\u001b[0m\u001b[0m\n",
      "\u001b[0;31mKeyboardInterrupt\u001b[0m: "
     ]
    }
   ],
   "source": [
    "for i in range(1,201):\n",
    "    cacher[i] = recurse(i,100000)"
   ]
  },
  {
   "cell_type": "code",
   "execution_count": null,
   "metadata": {},
   "outputs": [],
   "source": []
  },
  {
   "cell_type": "code",
   "execution_count": null,
   "metadata": {},
   "outputs": [],
   "source": [
    "adjust for 3, make it be 2!"
   ]
  },
  {
   "cell_type": "code",
   "execution_count": null,
   "metadata": {},
   "outputs": [],
   "source": [
    "cacher"
   ]
  },
  {
   "cell_type": "code",
   "execution_count": null,
   "metadata": {},
   "outputs": [],
   "source": []
  },
  {
   "cell_type": "code",
   "execution_count": 423,
   "metadata": {},
   "outputs": [
    {
     "ename": "NameError",
     "evalue": "name 'n' is not defined",
     "output_type": "error",
     "traceback": [
      "\u001b[0;31m---------------------------------------------------------------------------\u001b[0m",
      "\u001b[0;31mNameError\u001b[0m                                 Traceback (most recent call last)",
      "\u001b[0;32m<ipython-input-423-db3462f212cd>\u001b[0m in \u001b[0;36m<module>\u001b[0;34m\u001b[0m\n\u001b[0;32m----> 1\u001b[0;31m \u001b[0mlist\u001b[0m\u001b[0;34m(\u001b[0m\u001b[0mnp\u001b[0m\u001b[0;34m.\u001b[0m\u001b[0marange\u001b[0m\u001b[0;34m(\u001b[0m\u001b[0mn\u001b[0m\u001b[0;34m,\u001b[0m\u001b[0;34m(\u001b[0m\u001b[0mn\u001b[0m\u001b[0;34m//\u001b[0m\u001b[0;36m2\u001b[0m\u001b[0;34m)\u001b[0m\u001b[0;34m+\u001b[0m\u001b[0;36m1\u001b[0m\u001b[0;34m)\u001b[0m\u001b[0;34m)\u001b[0m\u001b[0;34m\u001b[0m\u001b[0;34m\u001b[0m\u001b[0m\n\u001b[0m",
      "\u001b[0;31mNameError\u001b[0m: name 'n' is not defined"
     ]
    }
   ],
   "source": [
    "list(np.arange(,(5//2)+1))"
   ]
  },
  {
   "cell_type": "code",
   "execution_count": 2,
   "metadata": {},
   "outputs": [],
   "source": [
    "import itertools\n",
    "import numpy as np"
   ]
  },
  {
   "cell_type": "code",
   "execution_count": 50,
   "metadata": {},
   "outputs": [
    {
     "name": "stdout",
     "output_type": "stream",
     "text": [
      "[[0 0 0 0 0 0 0 0]\n",
      " [2 0 0 0 0 0 0 0]\n",
      " [3 3 0 0 0 0 0 0]\n",
      " [4 4 4 0 0 0 0 0]\n",
      " [5 5 5 5 0 0 0 0]\n",
      " [6 6 6 6 6 0 0 0]\n",
      " [7 7 7 7 7 7 0 0]\n",
      " [8 8 8 8 8 8 8 0]]\n",
      "[[ 2  3  4  5  6  7  8  9]\n",
      " [ 3  4  5  6  7  8  9 10]\n",
      " [ 4  5  6  7  8  9 10 11]\n",
      " [ 5  6  7  8  9 10 11 12]\n",
      " [ 6  7  8  9 10 11 12 13]\n",
      " [ 7  8  9 10 11 12 13 14]\n",
      " [ 8  9 10 11 12 13 14 15]\n",
      " [ 9 10 11 12 13 14 15 16]]\n",
      "8\n",
      "[[ 3  5  7  9 11 13 15 17]\n",
      " [ 4  6  8 10 12 14 16 18]\n",
      " [ 5  7  9 11 13 15 17 19]\n",
      " [ 6  8 10 12 14 16 18 20]\n",
      " [ 7  9 11 13 15 17 19 21]\n",
      " [ 8 10 12 14 16 18 20 22]\n",
      " [ 9 11 13 15 17 19 21 23]\n",
      " [10 12 14 16 18 20 22 24]]\n",
      "4\n",
      "[[ 4  7 10 13 16 19 22 25]\n",
      " [ 5  8 11 14 17 20 23 26]\n",
      " [ 6  9 12 15 18 21 24 27]\n",
      " [ 7 10 13 16 19 22 25 28]\n",
      " [ 8 11 14 17 20 23 26 29]\n",
      " [ 9 12 15 18 21 24 27 30]\n",
      " [10 13 16 19 22 25 28 31]\n",
      " [11 14 17 20 23 26 29 32]]\n",
      "2\n",
      "[[ 5  9 13 17 21 25 29 33]\n",
      " [ 6 10 14 18 22 26 30 34]\n",
      " [ 7 11 15 19 23 27 31 35]\n",
      " [ 8 12 16 20 24 28 32 36]\n",
      " [ 9 13 17 21 25 29 33 37]\n",
      " [10 14 18 22 26 30 34 38]\n",
      " [11 15 19 23 27 31 35 39]\n",
      " [12 16 20 24 28 32 36 40]]\n",
      "2\n",
      "[[ 6 11 16 21 26 31 36 41]\n",
      " [ 7 12 17 22 27 32 37 42]\n",
      " [ 8 13 18 23 28 33 38 43]\n",
      " [ 9 14 19 24 29 34 39 44]\n",
      " [10 15 20 25 30 35 40 45]\n",
      " [11 16 21 26 31 36 41 46]\n",
      " [12 17 22 27 32 37 42 47]\n",
      " [13 18 23 28 33 38 43 48]]\n",
      "1\n",
      "[[ 7 13 19 25 31 37 43 49]\n",
      " [ 8 14 20 26 32 38 44 50]\n",
      " [ 9 15 21 27 33 39 45 51]\n",
      " [10 16 22 28 34 40 46 52]\n",
      " [11 17 23 29 35 41 47 53]\n",
      " [12 18 24 30 36 42 48 54]\n",
      " [13 19 25 31 37 43 49 55]\n",
      " [14 20 26 32 38 44 50 56]]\n",
      "1\n",
      "[[ 8 15 22 29 36 43 50 57]\n",
      " [ 9 16 23 30 37 44 51 58]\n",
      " [10 17 24 31 38 45 52 59]\n",
      " [11 18 25 32 39 46 53 60]\n",
      " [12 19 26 33 40 47 54 61]\n",
      " [13 20 27 34 41 48 55 62]\n",
      " [14 21 28 35 42 49 56 63]\n",
      " [15 22 29 36 43 50 57 64]]\n",
      "1\n",
      "[[ 9 17 25 33 41 49 57 65]\n",
      " [10 18 26 34 42 50 58 66]\n",
      " [11 19 27 35 43 51 59 67]\n",
      " [12 20 28 36 44 52 60 68]\n",
      " [13 21 29 37 45 53 61 69]\n",
      " [14 22 30 38 46 54 62 70]\n",
      " [15 23 31 39 47 55 63 71]\n",
      " [16 24 32 40 48 56 64 72]]\n",
      "1\n"
     ]
    },
    {
     "data": {
      "text/plain": [
       "20"
      ]
     },
     "execution_count": 50,
     "metadata": {},
     "output_type": "execute_result"
    }
   ],
   "source": [
    "num =9\n",
    "n =num-1\n",
    "mat = np.repeat(list(np.arange(1,n+1)), n).reshape(n,n)\n",
    "print(np.tril(mat, k=-1) )\n",
    "counter = 0\n",
    "for i in range(n):\n",
    "    mat = np.arange(1,n+1) + mat\n",
    "    #mat = np.tril(mat, k=-1)\n",
    "    print(mat)\n",
    "    print((mat == num).sum())\n",
    "    counter+= (mat == num).sum()\n",
    "counter"
   ]
  },
  {
   "cell_type": "code",
   "execution_count": 23,
   "metadata": {},
   "outputs": [],
   "source": [
    "\n",
    "def sol(n):\n",
    "    total = 0\n",
    "    for k in range(n):\n",
    "        li = list(np.arange(1,n- sum(range(k))+1 ))\n",
    "        print(k)\n",
    "        print(np.asarray(list(itertools.combinations(li, k))))\n",
    "        total+= sum(np.asarray(list(itertools.combinations(li, k))).sum(axis=1)==n)\n",
    "    return total"
   ]
  },
  {
   "cell_type": "code",
   "execution_count": 24,
   "metadata": {},
   "outputs": [
    {
     "name": "stdout",
     "output_type": "stream",
     "text": [
      "0\n",
      "[]\n",
      "1\n",
      "[[ 1]\n",
      " [ 2]\n",
      " [ 3]\n",
      " [ 4]\n",
      " [ 5]\n",
      " [ 6]\n",
      " [ 7]\n",
      " [ 8]\n",
      " [ 9]\n",
      " [10]]\n",
      "2\n",
      "[[1 2]\n",
      " [1 3]\n",
      " [1 4]\n",
      " [1 5]\n",
      " [1 6]\n",
      " [1 7]\n",
      " [1 8]\n",
      " [1 9]\n",
      " [2 3]\n",
      " [2 4]\n",
      " [2 5]\n",
      " [2 6]\n",
      " [2 7]\n",
      " [2 8]\n",
      " [2 9]\n",
      " [3 4]\n",
      " [3 5]\n",
      " [3 6]\n",
      " [3 7]\n",
      " [3 8]\n",
      " [3 9]\n",
      " [4 5]\n",
      " [4 6]\n",
      " [4 7]\n",
      " [4 8]\n",
      " [4 9]\n",
      " [5 6]\n",
      " [5 7]\n",
      " [5 8]\n",
      " [5 9]\n",
      " [6 7]\n",
      " [6 8]\n",
      " [6 9]\n",
      " [7 8]\n",
      " [7 9]\n",
      " [8 9]]\n",
      "3\n",
      "[[1 2 3]\n",
      " [1 2 4]\n",
      " [1 2 5]\n",
      " [1 2 6]\n",
      " [1 2 7]\n",
      " [1 3 4]\n",
      " [1 3 5]\n",
      " [1 3 6]\n",
      " [1 3 7]\n",
      " [1 4 5]\n",
      " [1 4 6]\n",
      " [1 4 7]\n",
      " [1 5 6]\n",
      " [1 5 7]\n",
      " [1 6 7]\n",
      " [2 3 4]\n",
      " [2 3 5]\n",
      " [2 3 6]\n",
      " [2 3 7]\n",
      " [2 4 5]\n",
      " [2 4 6]\n",
      " [2 4 7]\n",
      " [2 5 6]\n",
      " [2 5 7]\n",
      " [2 6 7]\n",
      " [3 4 5]\n",
      " [3 4 6]\n",
      " [3 4 7]\n",
      " [3 5 6]\n",
      " [3 5 7]\n",
      " [3 6 7]\n",
      " [4 5 6]\n",
      " [4 5 7]\n",
      " [4 6 7]\n",
      " [5 6 7]]\n",
      "4\n",
      "[[1 2 3 4]]\n",
      "5\n",
      "[]\n"
     ]
    },
    {
     "ename": "AxisError",
     "evalue": "axis 1 is out of bounds for array of dimension 1",
     "output_type": "error",
     "traceback": [
      "\u001b[0;31m---------------------------------------------------------------------------\u001b[0m",
      "\u001b[0;31mAxisError\u001b[0m                                 Traceback (most recent call last)",
      "\u001b[0;32m<ipython-input-24-e0d8c9854ed3>\u001b[0m in \u001b[0;36m<module>\u001b[0;34m\u001b[0m\n\u001b[0;32m----> 1\u001b[0;31m \u001b[0msol\u001b[0m\u001b[0;34m(\u001b[0m\u001b[0;36m10\u001b[0m\u001b[0;34m)\u001b[0m\u001b[0;34m\u001b[0m\u001b[0;34m\u001b[0m\u001b[0m\n\u001b[0m",
      "\u001b[0;32m<ipython-input-23-e13d3da1d98e>\u001b[0m in \u001b[0;36msol\u001b[0;34m(n)\u001b[0m\n\u001b[1;32m      5\u001b[0m         \u001b[0mprint\u001b[0m\u001b[0;34m(\u001b[0m\u001b[0mk\u001b[0m\u001b[0;34m)\u001b[0m\u001b[0;34m\u001b[0m\u001b[0;34m\u001b[0m\u001b[0m\n\u001b[1;32m      6\u001b[0m         \u001b[0mprint\u001b[0m\u001b[0;34m(\u001b[0m\u001b[0mnp\u001b[0m\u001b[0;34m.\u001b[0m\u001b[0masarray\u001b[0m\u001b[0;34m(\u001b[0m\u001b[0mlist\u001b[0m\u001b[0;34m(\u001b[0m\u001b[0mitertools\u001b[0m\u001b[0;34m.\u001b[0m\u001b[0mcombinations\u001b[0m\u001b[0;34m(\u001b[0m\u001b[0mli\u001b[0m\u001b[0;34m,\u001b[0m \u001b[0mk\u001b[0m\u001b[0;34m)\u001b[0m\u001b[0;34m)\u001b[0m\u001b[0;34m)\u001b[0m\u001b[0;34m)\u001b[0m\u001b[0;34m\u001b[0m\u001b[0;34m\u001b[0m\u001b[0m\n\u001b[0;32m----> 7\u001b[0;31m         \u001b[0mtotal\u001b[0m\u001b[0;34m+=\u001b[0m \u001b[0msum\u001b[0m\u001b[0;34m(\u001b[0m\u001b[0mnp\u001b[0m\u001b[0;34m.\u001b[0m\u001b[0masarray\u001b[0m\u001b[0;34m(\u001b[0m\u001b[0mlist\u001b[0m\u001b[0;34m(\u001b[0m\u001b[0mitertools\u001b[0m\u001b[0;34m.\u001b[0m\u001b[0mcombinations\u001b[0m\u001b[0;34m(\u001b[0m\u001b[0mli\u001b[0m\u001b[0;34m,\u001b[0m \u001b[0mk\u001b[0m\u001b[0;34m)\u001b[0m\u001b[0;34m)\u001b[0m\u001b[0;34m)\u001b[0m\u001b[0;34m.\u001b[0m\u001b[0msum\u001b[0m\u001b[0;34m(\u001b[0m\u001b[0maxis\u001b[0m\u001b[0;34m=\u001b[0m\u001b[0;36m1\u001b[0m\u001b[0;34m)\u001b[0m\u001b[0;34m==\u001b[0m\u001b[0mn\u001b[0m\u001b[0;34m)\u001b[0m\u001b[0;34m\u001b[0m\u001b[0;34m\u001b[0m\u001b[0m\n\u001b[0m\u001b[1;32m      8\u001b[0m     \u001b[0;32mreturn\u001b[0m \u001b[0mtotal\u001b[0m\u001b[0;34m\u001b[0m\u001b[0;34m\u001b[0m\u001b[0m\n",
      "\u001b[0;32m~/anaconda3/lib/python3.7/site-packages/numpy/core/_methods.py\u001b[0m in \u001b[0;36m_sum\u001b[0;34m(a, axis, dtype, out, keepdims, initial, where)\u001b[0m\n\u001b[1;32m     36\u001b[0m def _sum(a, axis=None, dtype=None, out=None, keepdims=False,\n\u001b[1;32m     37\u001b[0m          initial=_NoValue, where=True):\n\u001b[0;32m---> 38\u001b[0;31m     \u001b[0;32mreturn\u001b[0m \u001b[0mumr_sum\u001b[0m\u001b[0;34m(\u001b[0m\u001b[0ma\u001b[0m\u001b[0;34m,\u001b[0m \u001b[0maxis\u001b[0m\u001b[0;34m,\u001b[0m \u001b[0mdtype\u001b[0m\u001b[0;34m,\u001b[0m \u001b[0mout\u001b[0m\u001b[0;34m,\u001b[0m \u001b[0mkeepdims\u001b[0m\u001b[0;34m,\u001b[0m \u001b[0minitial\u001b[0m\u001b[0;34m,\u001b[0m \u001b[0mwhere\u001b[0m\u001b[0;34m)\u001b[0m\u001b[0;34m\u001b[0m\u001b[0;34m\u001b[0m\u001b[0m\n\u001b[0m\u001b[1;32m     39\u001b[0m \u001b[0;34m\u001b[0m\u001b[0m\n\u001b[1;32m     40\u001b[0m def _prod(a, axis=None, dtype=None, out=None, keepdims=False,\n",
      "\u001b[0;31mAxisError\u001b[0m: axis 1 is out of bounds for array of dimension 1"
     ]
    }
   ],
   "source": [
    "sol(10)"
   ]
  },
  {
   "cell_type": "code",
   "execution_count": null,
   "metadata": {},
   "outputs": [],
   "source": []
  }
 ],
 "metadata": {
  "kernelspec": {
   "display_name": "Python 3",
   "language": "python",
   "name": "python3"
  },
  "language_info": {
   "codemirror_mode": {
    "name": "ipython",
    "version": 3
   },
   "file_extension": ".py",
   "mimetype": "text/x-python",
   "name": "python",
   "nbconvert_exporter": "python",
   "pygments_lexer": "ipython3",
   "version": "3.7.5"
  }
 },
 "nbformat": 4,
 "nbformat_minor": 4
}
