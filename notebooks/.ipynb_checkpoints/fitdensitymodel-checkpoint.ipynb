{
 "cells": [
  {
   "cell_type": "code",
   "execution_count": 1,
   "metadata": {},
   "outputs": [],
   "source": [
    "import numpy as np\n",
    "import pandas\n",
    "import pickle\n",
    "import matplotlib.pyplot as plt"
   ]
  },
  {
   "cell_type": "code",
   "execution_count": 2,
   "metadata": {},
   "outputs": [],
   "source": [
    "data = np.array(pickle.load(open('../testing_scripts/gym_states.pkl', 'rb')))"
   ]
  },
  {
   "cell_type": "code",
   "execution_count": 3,
   "metadata": {},
   "outputs": [],
   "source": [
    "states, rewards = [], []\n",
    "for d in data: \n",
    "    states.append(d[0])\n",
    "    rewards.append(d[1])\n",
    "    \n",
    "states = np.array(states)\n",
    "rewards = np.array(rewards)"
   ]
  },
  {
   "cell_type": "code",
   "execution_count": 4,
   "metadata": {},
   "outputs": [
    {
     "data": {
      "text/plain": [
       "array([0.99999981, 0.99797941, 7.7426992 ])"
      ]
     },
     "execution_count": 4,
     "metadata": {},
     "output_type": "execute_result"
    }
   ],
   "source": [
    "states.max(axis=0)"
   ]
  },
  {
   "cell_type": "code",
   "execution_count": 5,
   "metadata": {},
   "outputs": [
    {
     "data": {
      "text/plain": [
       "(array([ 3., 12., 10.,  8., 10., 11., 13., 16., 23., 94.]),\n",
       " array([-16.04039999, -14.44083684, -12.8412737 , -11.24171055,\n",
       "         -9.6421474 ,  -8.04258426,  -6.44302111,  -4.84345796,\n",
       "         -3.24389482,  -1.64433167,  -0.04476852]),\n",
       " <a list of 10 Patch objects>)"
      ]
     },
     "execution_count": 5,
     "metadata": {},
     "output_type": "execute_result"
    },
    {
     "data": {
      "image/png": "[encoded data removed]",
      "text/plain": [
       "<Figure size 432x288 with 1 Axes>"
      ]
     },
     "metadata": {
      "needs_background": "light"
     },
     "output_type": "display_data"
    }
   ],
   "source": [
    "plt.hist(rewards)"
   ]
  },
  {
   "cell_type": "code",
   "execution_count": 6,
   "metadata": {},
   "outputs": [
    {
     "data": {
      "image/png": "[encoded data removed]",
      "text/plain": [
       "<Figure size 432x288 with 1 Axes>"
      ]
     },
     "metadata": {
      "needs_background": "light"
     },
     "output_type": "display_data"
    },
    {
     "data": {
      "image/png": "[encoded data removed]",
      "text/plain": [
       "<Figure size 432x288 with 1 Axes>"
      ]
     },
     "metadata": {
      "needs_background": "light"
     },
     "output_type": "display_data"
    },
    {
     "data": {
      "image/png": "[encoded data removed]",
      "text/plain": [
       "<Figure size 432x288 with 1 Axes>"
      ]
     },
     "metadata": {
      "needs_background": "light"
     },
     "output_type": "display_data"
    }
   ],
   "source": [
    "\n",
    "\n",
    "for i in range(3):\n",
    "    plt.hist(states[:,i])\n",
    "    plt.show()"
   ]
  },
  {
   "cell_type": "code",
   "execution_count": 7,
   "metadata": {},
   "outputs": [],
   "source": [
    "# need to scale all states to between 0 and 1. \n",
    "\n",
    "states[:,0] = (states[:,0]+1)/2.1\n",
    "states[:,1] = (states[:,1]+1)/2.1\n",
    "states[:,2] = (states[:,2]+8.1)/16.1"
   ]
  },
  {
   "cell_type": "code",
   "execution_count": null,
   "metadata": {},
   "outputs": [],
   "source": []
  },
  {
   "cell_type": "code",
   "execution_count": 8,
   "metadata": {},
   "outputs": [
    {
     "name": "stdout",
     "output_type": "stream",
     "text": [
      "0.9523808632074945 4.134203717529171e-05\n",
      "0.9514187675123817 1.2750446377501624e-05\n",
      "0.984018583854888 0.0062111801242235795\n"
     ]
    }
   ],
   "source": [
    "for i in range(3):\n",
    "    print(states[:,i].max(), states[:,i].min())\n"
   ]
  },
  {
   "cell_type": "markdown",
   "metadata": {},
   "source": [
    "## Fit a neural network to the distribution"
   ]
  },
  {
   "cell_type": "code",
   "execution_count": 27,
   "metadata": {},
   "outputs": [],
   "source": [
    "import torch\n",
    "import torch.nn as nn\n",
    "from torch.nn import functional as F\n",
    "import torch.optim as optim\n",
    "class RewardModel(nn.Module):\n",
    "    def __init__(self, node_size, act_fn=\"relu\"):\n",
    "        super().__init__()\n",
    "        self.act_fn = getattr(torch, act_fn)\n",
    "        self.fc_1 = nn.Linear(1, node_size)\n",
    "        self.fc_2 = nn.Linear(node_size, node_size)\n",
    "        self.fc_3 = nn.Linear(node_size, 6)\n",
    "\n",
    "    def forward(self, reward):\n",
    "        out = self.act_fn(self.fc_1(reward))\n",
    "        out = self.act_fn(self.fc_2(out))\n",
    "        reward = self.fc_3(out)\n",
    "        return reward"
   ]
  },
  {
   "cell_type": "code",
   "execution_count": 28,
   "metadata": {},
   "outputs": [],
   "source": [
    "inputs = torch.Tensor(rewards).unsqueeze(1)#[:20]\n",
    "states = torch.Tensor(states)#[:20]"
   ]
  },
  {
   "cell_type": "code",
   "execution_count": 35,
   "metadata": {},
   "outputs": [],
   "source": [
    "model = RewardModel(10)\n",
    "optimizer = optim.Adam(model.parameters(), lr=0.01)"
   ]
  },
  {
   "cell_type": "code",
   "execution_count": 36,
   "metadata": {},
   "outputs": [
    {
     "name": "stdout",
     "output_type": "stream",
     "text": [
      "epoch 0 loss is: 0.17294193804264069\n",
      "first series of outputs, then states tensor([0.8549, 1.2245, 0.8478, 0.9107, 1.1797, 1.1379],\n",
      "       grad_fn=<SelectBackward>) tensor([0.9504, 0.4330, 0.4555]) tensor([-0.0448])\n",
      "epoch 10 loss is: -0.5021045207977295\n",
      "first series of outputs, then states tensor([1.0480, 1.0808, 0.9774, 0.7594, 1.2182, 1.0608],\n",
      "       grad_fn=<SelectBackward>) tensor([0.9504, 0.4330, 0.4555]) tensor([-0.0448])\n",
      "epoch 20 loss is: -0.7729623913764954\n",
      "first series of outputs, then states tensor([1.2741, 1.2200, 1.1738, 0.5074, 1.4150, 1.2639],\n",
      "       grad_fn=<SelectBackward>) tensor([0.9504, 0.4330, 0.4555]) tensor([-0.0448])\n",
      "epoch 30 loss is: -0.992373526096344\n",
      "first series of outputs, then states tensor([1.7662, 1.4122, 1.8090, 0.3646, 1.6602, 2.0202],\n",
      "       grad_fn=<SelectBackward>) tensor([0.9504, 0.4330, 0.4555]) tensor([-0.0448])\n",
      "epoch 40 loss is: -1.2531695365905762\n",
      "first series of outputs, then states tensor([2.8516, 1.7773, 3.6468, 0.3515, 2.2009, 4.1275],\n",
      "       grad_fn=<SelectBackward>) tensor([0.9504, 0.4330, 0.4555]) tensor([-0.0448])\n",
      "epoch 50 loss is: -1.5981711149215698\n",
      "first series of outputs, then states tensor([ 6.1506,  2.8337, 11.0721,  0.4932,  3.3292, 12.0341],\n",
      "       grad_fn=<SelectBackward>) tensor([0.9504, 0.4330, 0.4555]) tensor([-0.0448])\n",
      "epoch 60 loss is: -1.9509217739105225\n",
      "first series of outputs, then states tensor([17.2236,  4.2929, 40.1857,  1.2821,  4.9762, 42.6641],\n",
      "       grad_fn=<SelectBackward>) tensor([0.9504, 0.4330, 0.4555]) tensor([-0.0448])\n",
      "epoch 70 loss is: -2.243471622467041\n",
      "first series of outputs, then states tensor([75.2132,  5.8697, 65.2623,  5.0014,  6.4318, 69.6668],\n",
      "       grad_fn=<SelectBackward>) tensor([0.9504, 0.4330, 0.4555]) tensor([-0.0448])\n",
      "epoch 80 loss is: -2.431520462036133\n",
      "first series of outputs, then states tensor([367.6846,   7.1007,  50.8308,  23.3679,   7.8836,  53.7571],\n",
      "       grad_fn=<SelectBackward>) tensor([0.9504, 0.4330, 0.4555]) tensor([-0.0448])\n",
      "epoch 90 loss is: -2.4353370666503906\n",
      "first series of outputs, then states tensor([598.7753,   8.3446,  50.4090,  35.3373,   9.2845,  52.6457],\n",
      "       grad_fn=<SelectBackward>) tensor([0.9504, 0.4330, 0.4555]) tensor([-0.0448])\n",
      "epoch 100 loss is: -2.456928253173828\n",
      "first series of outputs, then states tensor([476.6179,   9.4226,  69.8166,  29.6172,  10.6310,  72.8654],\n",
      "       grad_fn=<SelectBackward>) tensor([0.9504, 0.4330, 0.4555]) tensor([-0.0448])\n",
      "epoch 110 loss is: -2.4622786045074463\n",
      "first series of outputs, then states tensor([453.2052,   8.2597,  86.8622,  27.8535,   9.1077,  90.7633],\n",
      "       grad_fn=<SelectBackward>) tensor([0.9504, 0.4330, 0.4555]) tensor([-0.0448])\n",
      "epoch 120 loss is: -2.464923143386841\n",
      "first series of outputs, then states tensor([466.4833,   8.5076,  87.3602,  28.4190,   9.3080,  91.7464],\n",
      "       grad_fn=<SelectBackward>) tensor([0.9504, 0.4330, 0.4555]) tensor([-0.0448])\n",
      "epoch 130 loss is: -2.4671332836151123\n",
      "first series of outputs, then states tensor([480.8628,   8.3394,  84.3598,  29.7008,   9.1912,  88.4762],\n",
      "       grad_fn=<SelectBackward>) tensor([0.9504, 0.4330, 0.4555]) tensor([-0.0448])\n",
      "epoch 140 loss is: -2.4670920372009277\n",
      "first series of outputs, then states tensor([504.6856,   8.4163,  87.4552,  30.5404,   9.2834,  92.0777],\n",
      "       grad_fn=<SelectBackward>) tensor([0.9504, 0.4330, 0.4555]) tensor([-0.0448])\n",
      "epoch 150 loss is: -2.468599796295166\n",
      "first series of outputs, then states tensor([490.1623,   8.3109,  88.3080,  30.2479,   9.2031,  92.7068],\n",
      "       grad_fn=<SelectBackward>) tensor([0.9504, 0.4330, 0.4555]) tensor([-0.0448])\n",
      "epoch 160 loss is: -2.4673011302948\n",
      "first series of outputs, then states tensor([486.2759,   8.3580,  90.7808,  29.8768,   9.2474,  93.1067],\n",
      "       grad_fn=<SelectBackward>) tensor([0.9504, 0.4330, 0.4555]) tensor([-0.0448])\n",
      "epoch 170 loss is: -2.4686996936798096\n",
      "first series of outputs, then states tensor([489.8214,   8.3906,  90.6816,  29.9655,   9.2770,  93.8047],\n",
      "       grad_fn=<SelectBackward>) tensor([0.9504, 0.4330, 0.4555]) tensor([-0.0448])\n",
      "epoch 180 loss is: -2.4693562984466553\n",
      "first series of outputs, then states tensor([489.8464,   8.3631,  90.5836,  30.3774,   9.2591,  94.3396],\n",
      "       grad_fn=<SelectBackward>) tensor([0.9504, 0.4330, 0.4555]) tensor([-0.0448])\n",
      "epoch 190 loss is: -2.469818115234375\n",
      "first series of outputs, then states tensor([497.7094,   8.5285,  91.6286,  30.4706,   9.3742,  96.6992],\n",
      "       grad_fn=<SelectBackward>) tensor([0.9504, 0.4330, 0.4555]) tensor([-0.0448])\n",
      "epoch 200 loss is: -2.4702210426330566\n",
      "first series of outputs, then states tensor([502.7441,   8.5375,  92.8731,  30.6923,   9.3701,  97.9932],\n",
      "       grad_fn=<SelectBackward>) tensor([0.9504, 0.4330, 0.4555]) tensor([-0.0448])\n",
      "epoch 210 loss is: -2.470942974090576\n",
      "first series of outputs, then states tensor([503.0645,   8.5546,  93.0844,  30.8490,   9.3906,  97.9486],\n",
      "       grad_fn=<SelectBackward>) tensor([0.9504, 0.4330, 0.4555]) tensor([-0.0448])\n",
      "epoch 220 loss is: -2.4710822105407715\n",
      "first series of outputs, then states tensor([503.0664,   8.5790,  93.3654,  31.1399,   9.4294,  97.7906],\n",
      "       grad_fn=<SelectBackward>) tensor([0.9504, 0.4330, 0.4555]) tensor([-0.0448])\n",
      "epoch 230 loss is: -2.471811056137085\n",
      "first series of outputs, then states tensor([510.8631,   8.6200,  94.3520,  31.2375,   9.4428,  98.5037],\n",
      "       grad_fn=<SelectBackward>) tensor([0.9504, 0.4330, 0.4555]) tensor([-0.0448])\n",
      "epoch 240 loss is: -2.4733877182006836\n",
      "first series of outputs, then states tensor([513.8245,   8.7190,  95.0861,  31.5421,   9.5295,  99.2203],\n",
      "       grad_fn=<SelectBackward>) tensor([0.9504, 0.4330, 0.4555]) tensor([-0.0448])\n",
      "epoch 250 loss is: -2.474175214767456\n",
      "first series of outputs, then states tensor([512.6102,   8.7902,  97.1998,  32.2268,   9.6148, 100.3397],\n",
      "       grad_fn=<SelectBackward>) tensor([0.9504, 0.4330, 0.4555]) tensor([-0.0448])\n",
      "epoch 260 loss is: -2.477994441986084\n",
      "first series of outputs, then states tensor([524.0396,   8.9499, 100.4601,  32.5858,   9.7413, 102.0588],\n",
      "       grad_fn=<SelectBackward>) tensor([0.9504, 0.4330, 0.4555]) tensor([-0.0448])\n",
      "epoch 270 loss is: -2.4824490547180176\n",
      "first series of outputs, then states tensor([555.7437,   9.3560, 106.9823,  34.2057,  10.0268, 107.8832],\n",
      "       grad_fn=<SelectBackward>) tensor([0.9504, 0.4330, 0.4555]) tensor([-0.0448])\n",
      "epoch 280 loss is: -2.4887771606445312\n",
      "first series of outputs, then states tensor([573.4317,   9.6094, 112.0439,  36.3467,  10.1781, 112.5274],\n",
      "       grad_fn=<SelectBackward>) tensor([0.9504, 0.4330, 0.4555]) tensor([-0.0448])\n",
      "epoch 290 loss is: -2.494619846343994\n",
      "first series of outputs, then states tensor([605.5970,  10.3598, 117.0352,  38.7422,  10.7181, 119.1147],\n",
      "       grad_fn=<SelectBackward>) tensor([0.9504, 0.4330, 0.4555]) tensor([-0.0448])\n",
      "Finished Training\n"
     ]
    }
   ],
   "source": [
    "\n",
    "num_epochs = 300\n",
    "\n",
    "for epoch in range(num_epochs):  # loop over the dataset multiple times\n",
    "\n",
    "    # zero the parameter gradients\n",
    "    optimizer.zero_grad()\n",
    "\n",
    "    # forward + backward + optimize\n",
    "    outputs = model(inputs)\n",
    "    #print('outputs before exp', outputs[0:5])\n",
    "    outputs = outputs.exp()\n",
    "    \n",
    "    # log alpha and beta parameters. \n",
    "    loss = - torch.distributions.Beta(outputs[:,0:3], outputs[:,3:] ).log_prob(states) # criterion(outputs, labels)\n",
    "    loss = loss.sum(-1).mean()\n",
    "    #print( 'loss for epoch', loss.item())\n",
    "    loss.backward()\n",
    "    optimizer.step()\n",
    "\n",
    "    # print statistics\n",
    "    if epoch %10 ==0:\n",
    "        print('epoch', epoch, 'loss is:', loss.item())\n",
    "        print('first series of outputs, then states', outputs[0], states[0], inputs[0])\n",
    "\n",
    "print('Finished Training')"
   ]
  },
  {
   "cell_type": "code",
   "execution_count": 37,
   "metadata": {},
   "outputs": [
    {
     "name": "stdout",
     "output_type": "stream",
     "text": [
      "tensor([[1.9613e+00, 6.1439e-01, 7.0708e-01, 5.6432e+00, 6.6273e-01, 8.5844e-01],\n",
      "        [3.5472e+00, 4.1392e-01, 9.8433e-01, 5.5797e+00, 4.5297e-01, 1.1973e+00],\n",
      "        [6.4155e+00, 2.7887e-01, 1.3703e+00, 5.5169e+00, 3.0960e-01, 1.6701e+00],\n",
      "        [1.5789e+01, 4.4312e-01, 3.1731e+00, 6.7579e+00, 5.1894e-01, 3.6879e+00],\n",
      "        [7.5679e+02, 1.3314e+01, 1.4758e+02, 4.6617e+01, 1.3332e+01, 1.4660e+02]],\n",
      "       grad_fn=<ExpBackward>)\n"
     ]
    }
   ],
   "source": [
    "res = model(torch.Tensor([-8, -6, -4, -2, -0.01]).unsqueeze(1)).exp()\n",
    "print(res)"
   ]
  },
  {
   "cell_type": "code",
   "execution_count": 42,
   "metadata": {},
   "outputs": [
    {
     "data": {
      "text/plain": [
       "tensor([[[0.1162, 0.6706, 0.6733],\n",
       "         [0.3290, 0.9039, 0.1317],\n",
       "         [0.6155, 0.4099, 0.4362],\n",
       "         [0.6404, 0.5800, 0.3937],\n",
       "         [0.9380, 0.5035, 0.4848]]])"
      ]
     },
     "execution_count": 42,
     "metadata": {},
     "output_type": "execute_result"
    }
   ],
   "source": [
    "torch.distributions.Beta(res[:,:3],res[:,3:] ).sample([1])"
   ]
  },
  {
   "cell_type": "markdown",
   "metadata": {},
   "source": [
    "# multivariate with covariance matrix"
   ]
  },
  {
   "cell_type": "code",
   "execution_count": 26,
   "metadata": {},
   "outputs": [
    {
     "data": {
      "text/plain": [
       "(200, 1)"
      ]
     },
     "execution_count": 26,
     "metadata": {},
     "output_type": "execute_result"
    }
   ],
   "source": [
    "np.expand_dims(rewards,1).shape"
   ]
  },
  {
   "cell_type": "code",
   "execution_count": 27,
   "metadata": {},
   "outputs": [
    {
     "data": {
      "text/plain": [
       "torch.Size([200, 3])"
      ]
     },
     "execution_count": 27,
     "metadata": {},
     "output_type": "execute_result"
    }
   ],
   "source": [
    "states.shape"
   ]
  },
  {
   "cell_type": "code",
   "execution_count": 28,
   "metadata": {},
   "outputs": [],
   "source": [
    "sr = np.concatenate([states,np.expand_dims(rewards,1)], axis=1)"
   ]
  },
  {
   "cell_type": "code",
   "execution_count": 29,
   "metadata": {},
   "outputs": [
    {
     "data": {
      "text/plain": [
       "array([ 0.25759256,  0.04116807, -0.85134329, -4.13237383])"
      ]
     },
     "execution_count": 29,
     "metadata": {},
     "output_type": "execute_result"
    }
   ],
   "source": [
    "mus = sr.mean(axis=0)\n",
    "mus"
   ]
  },
  {
   "cell_type": "code",
   "execution_count": 30,
   "metadata": {},
   "outputs": [
    {
     "data": {
      "text/plain": [
       "0"
      ]
     },
     "execution_count": 30,
     "metadata": {},
     "output_type": "execute_result"
    }
   ],
   "source": [
    "sr[:,-1].argmax()"
   ]
  },
  {
   "cell_type": "code",
   "execution_count": 33,
   "metadata": {},
   "outputs": [
    {
     "data": {
      "text/plain": [
       "array([[ 0.69378781, -0.72017944, -2.79928017, -1.0322417 ],\n",
       "       [ 0.55697513, -0.83052921, -3.51992369, -1.43155908],\n",
       "       [ 0.3608104 , -0.93263918, -4.43205023, -2.20321623],\n",
       "       [ 0.1265475 , -0.99196053, -4.84497976, -3.4119423 ],\n",
       "       [-0.15194434, -0.98838907, -5.58845758, -4.43225475]])"
      ]
     },
     "execution_count": 33,
     "metadata": {},
     "output_type": "execute_result"
    }
   ],
   "source": [
    "sr[100:105]"
   ]
  },
  {
   "cell_type": "code",
   "execution_count": 42,
   "metadata": {},
   "outputs": [
    {
     "data": {
      "text/plain": [
       "array([[ -0.85682186,   0.51561255,   6.57430579,  -8.92827924],\n",
       "       [ -0.98122235,   0.19288003,   6.9525191 , -11.08147816],\n",
       "       [ -0.98537324,  -0.17041005,   7.30684485, -13.5234398 ],\n",
       "       [ -0.86792712,  -0.49669156,   6.97073859, -14.16388703],\n",
       "       [ -0.65559451,  -0.75511313,   6.72087891, -11.73367566]])"
      ]
     },
     "execution_count": 42,
     "metadata": {},
     "output_type": "execute_result"
    }
   ],
   "source": [
    "sr[-5:]"
   ]
  },
  {
   "cell_type": "code",
   "execution_count": 32,
   "metadata": {},
   "outputs": [
    {
     "data": {
      "text/plain": [
       "array([[ 4.48933624e-01, -9.01084850e-04,  1.36170822e-01,\n",
       "         2.84404396e+00],\n",
       "       [-9.01084850e-04,  4.87700815e-01,  4.38566898e-03,\n",
       "        -1.23406532e-01],\n",
       "       [ 1.36170822e-01,  4.38566898e-03,  1.80887414e+01,\n",
       "         1.23868889e+00],\n",
       "       [ 2.84404396e+00, -1.23406532e-01,  1.23868889e+00,\n",
       "         2.06164720e+01]])"
      ]
     },
     "execution_count": 32,
     "metadata": {},
     "output_type": "execute_result"
    }
   ],
   "source": [
    "sigmas = np.cov(sr, rowvar=False)\n",
    "sigmas"
   ]
  },
  {
   "cell_type": "code",
   "execution_count": 36,
   "metadata": {},
   "outputs": [
    {
     "data": {
      "text/plain": [
       "tensor([ 0.1935,  0.0999,  3.9036, -5.1785])"
      ]
     },
     "execution_count": 36,
     "metadata": {},
     "output_type": "execute_result"
    }
   ],
   "source": [
    "import torch\n",
    "torch.distributions.MultivariateNormal(torch.Tensor(mus),torch.Tensor(sigmas) ).sample()"
   ]
  },
  {
   "cell_type": "markdown",
   "metadata": {},
   "source": [
    "## Independent"
   ]
  },
  {
   "cell_type": "code",
   "execution_count": 31,
   "metadata": {},
   "outputs": [
    {
     "data": {
      "text/plain": [
       "array([0.11866389, 0.53043727, 2.26055126])"
      ]
     },
     "execution_count": 31,
     "metadata": {},
     "output_type": "execute_result"
    }
   ],
   "source": []
  },
  {
   "cell_type": "code",
   "execution_count": 34,
   "metadata": {},
   "outputs": [
    {
     "data": {
      "text/plain": [
       "tensor([-0.8570, -0.6774, -0.3861])"
      ]
     },
     "execution_count": 34,
     "metadata": {},
     "output_type": "execute_result"
    }
   ],
   "source": [
    "torch.distributions.Normal(torch.Tensor(mus),torch.Tensor(states.std(axis=0)) ).sample()"
   ]
  },
  {
   "cell_type": "code",
   "execution_count": null,
   "metadata": {},
   "outputs": [],
   "source": []
  }
 ],
 "metadata": {
  "kernelspec": {
   "display_name": "Python 3",
   "language": "python",
   "name": "python3"
  },
  "language_info": {
   "codemirror_mode": {
    "name": "ipython",
    "version": 3
   },
   "file_extension": ".py",
   "mimetype": "text/x-python",
   "name": "python",
   "nbconvert_exporter": "python",
   "pygments_lexer": "ipython3",
   "version": "3.7.5"
  }
 },
 "nbformat": 4,
 "nbformat_minor": 4
}
